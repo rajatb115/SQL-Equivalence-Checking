{
 "cells": [
  {
   "cell_type": "code",
   "execution_count": null,
   "metadata": {},
   "outputs": [],
   "source": [
    "import wandb\n",
    "import os"
   ]
  },
  {
   "cell_type": "code",
   "execution_count": null,
   "metadata": {},
   "outputs": [],
   "source": [
    "import os\n",
    "# os.environ['http_proxy']=\"http://proxy61.iitd.ac.in:3128\"\n",
    "# os.environ['https_proxy']=\"http://proxy61.iitd.ac.in:3128\""
   ]
  },
  {
   "cell_type": "code",
   "execution_count": null,
   "metadata": {},
   "outputs": [],
   "source": [
    "from config.read_config_bard import read_config\n",
    "import torch\n",
    "\n",
    "# Reading config file\n",
    "config = read_config(\"config/config_bard.txt\")"
   ]
  },
  {
   "cell_type": "code",
   "execution_count": null,
   "metadata": {},
   "outputs": [],
   "source": [
    "# setting env variables\n",
    "os.environ[\"CUDA_DEVICE_ORDER\"] = \"PCI_BUS_ID\"\n",
    "os.environ[\"CUDA_VISIBLE_DEVICES\"] = \"0\"\n",
    "os.environ['WANDB_NOTEBOOK_NAME'] = 'bard'"
   ]
  },
  {
   "cell_type": "code",
   "execution_count": null,
   "metadata": {},
   "outputs": [],
   "source": [
    "# get the run number\n",
    "fp = open(\"run_seq.txt\",'r')\n",
    "read_run_data = fp.readline().strip()\n",
    "\n",
    "run_data = {}\n",
    "\n",
    "while(read_run_data):\n",
    "    key,value = read_run_data.split(\" \")\n",
    "    run_data[key]=int(value)\n",
    "    read_run_data= fp.readline().strip()\n",
    "\n",
    "fp.close()"
   ]
  },
  {
   "cell_type": "code",
   "execution_count": null,
   "metadata": {},
   "outputs": [],
   "source": [
    "# new run number\n",
    "if config['llm_name'] not in run_data.keys():\n",
    "    run_data[config['llm_name']] = 0\n",
    "\n",
    "run_number = str(run_data[config['llm_name']]+1)\n",
    "run_data[config['llm_name']] += 1\n",
    "\n",
    "fp = open(\"run_seq.txt\",'w')\n",
    "\n",
    "for i in run_data.keys():\n",
    "    fp.write(i+\" \"+str(run_data[i])+\"\\n\")\n",
    "fp.close()"
   ]
  },
  {
   "cell_type": "code",
   "execution_count": null,
   "metadata": {},
   "outputs": [],
   "source": [
    "model_name = \"final_\"+config['llm_name']+\"_\"+config['sql_dataset'].strip().split(\".\")[0].strip()+\"_method_3\"\n",
    "model_tag = config['llm_name']\n",
    "\n",
    "run = wandb.init(\n",
    "    project=model_name, \n",
    "    notes=\"Run number \"+run_number,\n",
    "    tags=[\"openai\",model_tag]\n",
    ")\n",
    "\n",
    "wandb.config = {\"name\":\"gemini\", \"Parameters\":model_tag}"
   ]
  },
  {
   "cell_type": "code",
   "execution_count": null,
   "metadata": {},
   "outputs": [],
   "source": [
    "prediction_table = wandb.Table(columns=[\"Query1\",\"Explanation1\",\"Query2\",\"Explanation2\",\"Prompt\",\"Response\",\"F_prompt\",\"F_response\"])"
   ]
  },
  {
   "cell_type": "code",
   "execution_count": null,
   "metadata": {},
   "outputs": [],
   "source": [
    "def read_dataset_file(file_loc):\n",
    "    data_in_file = []\n",
    "\n",
    "    file_l = file_loc\n",
    "    fp = open(file_l,'r')\n",
    "    sentence = fp.readline()\n",
    "    while sentence:\n",
    "        data_in_file.append(sentence)\n",
    "        sentence = fp.readline()\n",
    "    \n",
    "    return data_in_file\n",
    "\n",
    "dataset_file = config['dataset_path'] + config['sql_dataset']\n",
    "dataset_file_read = read_dataset_file(dataset_file)\n",
    "\n",
    "samples = read_dataset_file(config['samples_path']+config['sampling_file'])\n",
    "\n",
    "samples_list = samples[0].strip().split(' ')\n",
    "\n",
    "for i in range(len(samples_list)):\n",
    "    samples_list[i] = int(samples_list[i])"
   ]
  },
  {
   "cell_type": "code",
   "execution_count": null,
   "metadata": {},
   "outputs": [],
   "source": [
    "# Reading table create commands\n",
    "\n",
    "def read_file(file_loc):\n",
    "    sentence = \"\"\n",
    "    file_l = file_loc\n",
    "    fp = open(file_l,'r')\n",
    "    sentence = fp.read()\n",
    "    fp.close()\n",
    "    return sentence\n"
   ]
  },
  {
   "cell_type": "code",
   "execution_count": null,
   "metadata": {},
   "outputs": [],
   "source": [
    "# Reading the prompt files\n",
    "prompt = {}\n",
    "\n",
    "for i in range(1,int(config['prompt_count'])+1):\n",
    "    prompt_file_loc = config['prompt_path'] + config['prompt_file_'+str(i)]\n",
    "    prompt_data = read_file(prompt_file_loc)\n",
    "\n",
    "    prompt['prompt_file_'+str(i)] = prompt_data"
   ]
  },
  {
   "cell_type": "code",
   "execution_count": null,
   "metadata": {},
   "outputs": [],
   "source": [
    "import google.generativeai as genai"
   ]
  },
  {
   "cell_type": "code",
   "execution_count": null,
   "metadata": {},
   "outputs": [],
   "source": [
    "temperature = 0.2\n",
    "max_output_tokens = 10000\n",
    "top_k = 1"
   ]
  },
  {
   "cell_type": "code",
   "execution_count": null,
   "metadata": {},
   "outputs": [],
   "source": [
    "genai.GenerationConfig(\n",
    "    max_output_tokens= max_output_tokens,\n",
    "    temperature=temperature,\n",
    "    top_k=top_k\n",
    ")"
   ]
  },
  {
   "cell_type": "code",
   "execution_count": null,
   "metadata": {},
   "outputs": [],
   "source": [
    "genai.configure(api_key='')\n"
   ]
  },
  {
   "cell_type": "code",
   "execution_count": null,
   "metadata": {},
   "outputs": [],
   "source": [
    "for m in genai.list_models():\n",
    "    if 'generateContent' in m.supported_generation_methods:\n",
    "        print(m.name)"
   ]
  },
  {
   "cell_type": "code",
   "execution_count": null,
   "metadata": {},
   "outputs": [],
   "source": [
    "print(config['llm_name'])\n",
    "model = genai.GenerativeModel(config['llm_name'])"
   ]
  },
  {
   "cell_type": "code",
   "execution_count": null,
   "metadata": {},
   "outputs": [],
   "source": [
    "from create_prompt import create_prompt\n",
    "import time \n",
    "\n",
    "prediction_table_temp = []\n",
    "\n",
    "if not os.path.exists(\"input_1\"):\n",
    "    os.mkdir(\"input_1\")\n",
    "\n",
    "if not os.path.exists(\"input_1/\"+model_name):\n",
    "    os.mkdir(\"input_1/\"+model_name)\n",
    "\n",
    "if not os.path.exists(\"input_1/\"+model_name+\"/\"+run_number):\n",
    "    os.mkdir(\"input_1/\"+model_name+\"/\"+run_number)\n",
    "\n",
    "if not os.path.exists(\"output_1\"):\n",
    "    os.mkdir(\"output_1\")\n",
    "\n",
    "if not os.path.exists(\"output_1/\"+model_name):\n",
    "    os.mkdir(\"output_1/\"+model_name)\n",
    "\n",
    "if not os.path.exists(\"output_1/\"+model_name+\"/\"+run_number):\n",
    "    os.mkdir(\"output_1/\"+model_name+\"/\"+run_number)\n",
    "\n",
    "start_time = time.time()\n",
    "\n",
    "for idx, i in enumerate(samples_list):\n",
    "\n",
    "    q1 = \"[SQL_1] \"+dataset_file_read[(i)*2].strip()\n",
    "    if q1[-1]!=\";\":\n",
    "        q1+=\";\"\n",
    "    \n",
    "    q2 = \"[SQL_2] \"+dataset_file_read[(i)*2+1].strip()\n",
    "    if q2[-1]!=\";\":\n",
    "        q2+=\";\"\n",
    "\n",
    "    # creating prompt\n",
    "    message_q1 = create_prompt([prompt['prompt_file_5'],'\\n\\n', prompt['prompt_file_2'],'\\n',q1,'\\n\\n',prompt['prompt_file_3']],[],-1)\n",
    "    print(message_q1)\n",
    "    response_q1 = model.generate_content(message_q1)\n",
    "    result_q1 = response_q1.text\n",
    "    print(result_q1)\n",
    "\n",
    "    message_q2 = create_prompt([prompt['prompt_file_6'],'\\n\\n', prompt['prompt_file_2'],'\\n',q2,'\\n\\n',prompt['prompt_file_3']],[],-1)\n",
    "    print(message_q2)\n",
    "    response_q2 = model.generate_content(message_q2)\n",
    "    result_q2 = response_q2.text\n",
    "    print(result_q2)\n",
    "\n",
    "    # message = create_prompt([tbl_list,'\\n',q1,q2,'\\n',prompt['prompt_file_1']],create_table,0)\n",
    "    message = create_prompt([prompt['prompt_file_1'],'\\n\\n',prompt['prompt_file_2'],'\\n',q1,'\\n',q2,'\\n\\n### Explanation for SQL_1\\n',result_q1,'\\n','\\n### Explanation for SQL_2\\n',result_q2,'\\n\\n',prompt['prompt_file_3']],[],-1)\n",
    "    print(message)\n",
    "\n",
    "    # message.append({\"role\":\"user\", \"content\":prompt_temp_1})\n",
    "\n",
    "    response = model.generate_content(message)\n",
    "    \n",
    "    try:\n",
    "        result = response.text\n",
    "    except:\n",
    "        print(i)\n",
    "        result = \"Unknown\"\n",
    "\n",
    "    print(result)\n",
    "    \n",
    "    fp = open(\"input_1/\"+model_name+\"/\"+run_number+\"/query_\"+str(i+1)+\".txt\",'w')\n",
    "    fp.write(str(message))\n",
    "    fp.close()\n",
    "\n",
    "    fp = open(\"output_1/\"+model_name+\"/\"+run_number+\"/output_\"+str(i+1)+\".txt\",'w')\n",
    "    fp.write(str(result))\n",
    "    fp.close()\n",
    "\n",
    "    prediction_table_temp.append([str(message_q1),str(result_q1),str(message_q2),str(result_q2),str(message),str(result)])\n",
    "    time.sleep(1)\n",
    "    \n",
    "end_time = time.time()\n",
    "inf_time = end_time - start_time"
   ]
  },
  {
   "cell_type": "code",
   "execution_count": null,
   "metadata": {},
   "outputs": [],
   "source": [
    "import time\n",
    "from openai import OpenAI\n",
    "\n",
    "if not os.path.exists(\"final_result_input\"):\n",
    "    os.mkdir(\"final_result_input\")\n",
    "\n",
    "if not os.path.exists(\"final_result_input/\"+model_name):\n",
    "    os.mkdir(\"final_result_input/\"+model_name)\n",
    "\n",
    "if not os.path.exists(\"final_result_input/\"+model_name+\"/\"+run_number):\n",
    "    os.mkdir(\"final_result_input/\"+model_name+\"/\"+run_number)\n",
    "\n",
    "if not os.path.exists(\"final_result_output\"):\n",
    "    os.mkdir(\"final_result_output\")\n",
    "\n",
    "if not os.path.exists(\"final_result_output/\"+model_name):\n",
    "    os.mkdir(\"final_result_output/\"+model_name)\n",
    "\n",
    "if not os.path.exists(\"final_result_output/\"+model_name+\"/\"+run_number):\n",
    "    os.mkdir(\"final_result_output/\"+model_name+\"/\"+run_number)\n",
    "\n",
    "start_time = time.time()\n",
    "\n",
    "temperature = 0.2\n",
    "max_tokens = 1000\n",
    "frequency_penalty = 0.0\n",
    "\n",
    "openai_organization = \"\"\n",
    "openai_api_key = \"\"\n",
    "\n",
    "os.environ['OPENAI_API_KEY'] = openai_api_key\n",
    "client = OpenAI()\n",
    "\n",
    "for idx, i in enumerate(samples_list):\n",
    "    prompt_temp_2 = create_prompt([prompt['prompt_file_4'],'\\n',read_file(\"output_1/\"+model_name+\"/\"+run_number+\"/output_\"+str(i+1)+\".txt\"),'\\n\\n',prompt['prompt_file_3']], [], -1)\n",
    "    print(prompt_temp_2)\n",
    "\n",
    "    # message = prompt_temp_2\n",
    "    # output =  model.generate_content(message)\n",
    "\n",
    "    message = [{'role':'user', 'content':prompt_temp_2}]\n",
    "\n",
    "    output =  response = client.chat.completions.create(\n",
    "        model=\"gpt-3.5-turbo-0125\",\n",
    "        messages = message,\n",
    "        temperature=temperature,\n",
    "        max_tokens=max_tokens,\n",
    "        frequency_penalty=frequency_penalty\n",
    "    )\n",
    "\n",
    "    try:\n",
    "        result = output.choices[0].message.content\n",
    "    except:\n",
    "        result = \"Unknown\"\n",
    "    print(result)\n",
    "\n",
    "    fp = open(\"final_result_input/\"+model_name+\"/\"+run_number+\"/query_\"+str(i+1)+\".txt\",'w')\n",
    "    fp.write(prompt_temp_2)\n",
    "    fp.close()\n",
    "\n",
    "    fp = open(\"final_result_output/\"+model_name+\"/\"+run_number+\"/output_\"+str(i+1)+\".txt\",'w')\n",
    "    fp.write(result)\n",
    "    fp.close()\n",
    "\n",
    "    prediction_table_temp[idx].append(prompt_temp_2)\n",
    "    prediction_table_temp[idx].append(result)\n",
    "\n",
    "    time.sleep(1)\n",
    "\n",
    "end_time = time.time()\n",
    "res_time = end_time - start_time\n",
    "    "
   ]
  },
  {
   "cell_type": "code",
   "execution_count": null,
   "metadata": {},
   "outputs": [],
   "source": [
    "for i in prediction_table_temp:\n",
    "    prediction_table.add_data(i[0],i[1],i[2],i[3],i[4],i[5],i[6],i[7])\n",
    "\n",
    "wandb.log({'predictions': prediction_table})\n",
    "wandb.finish()"
   ]
  },
  {
   "cell_type": "code",
   "execution_count": null,
   "metadata": {},
   "outputs": [],
   "source": [
    "path = \"final_result_output/\"+model_name+\"/\"+run_number+\"/output_\""
   ]
  },
  {
   "cell_type": "code",
   "execution_count": null,
   "metadata": {},
   "outputs": [],
   "source": [
    "if not os.path.exists(\"final_output_count\"):\n",
    "     os.mkdir(\"final_output_count\")\n",
    "\n",
    "if not os.path.exists(\"final_output_count/\"+model_name):\n",
    "    os.mkdir(\"final_output_count/\"+model_name)\n",
    "    \n",
    "if not os.path.exists(\"final_output_count/\"+model_name+\"/\"+run_number):\n",
    "    os.mkdir(\"final_output_count/\"+model_name+\"/\"+run_number)\n",
    "\n",
    "yes_cnt = 0\n",
    "no_cnt = 0\n",
    "no_idea = 0\n",
    "for idx, i in enumerate(samples_list):\n",
    "    fp = open(path+str(i+1)+\".txt\", 'r')\n",
    "    data = fp.read()\n",
    "\n",
    "    data = data.lower().replace(\"  \",\" \")\n",
    "    if \"non equivalent\" in data or \"non-equivalent\" in data or \"not equivalent\" in data or \"not-equivalent\" in data or \"nonequivalent\" in data or \"notequivalent\" in data:\n",
    "        no_cnt+=1\n",
    "    elif \"equivalent\" in data:\n",
    "        yes_cnt+=1\n",
    "    else:\n",
    "        print(i+1)\n",
    "        print(data)\n",
    "        no_idea +=1\n",
    "\n",
    "fp = open(\"final_output_count/\"+model_name+\"/\"+run_number+\"/result.txt\",'w')\n",
    "fp.write(\"yes: \"+str(yes_cnt)+\"\\n\")\n",
    "fp.write(\"no: \"+str(no_cnt)+\"\\n\")\n",
    "fp.write(\"no idea: \"+str(no_idea)+\"\\n\")\n",
    "fp.write(\"Inference time: \"+ str(inf_time) +\"\\n\")\n",
    "fp.write(\"Result computation time: \"+ str(res_time)+ \"\\n\")\n",
    "fp.write(\"####### model details ####### \\n\")\n",
    "fp.write(\"model_name: \"+str(model_name)+\"\\n\")\n",
    "fp.write(\"temperature: \"+str(temperature)+\"\\n\")\n",
    "fp.write(\"max_output_tokens: \"+str(max_output_tokens)+\"\\n\")\n",
    "fp.write(\"top_k: \"+str(top_k))\n",
    "\n",
    "fp.close()\n"
   ]
  },
  {
   "cell_type": "code",
   "execution_count": null,
   "metadata": {},
   "outputs": [],
   "source": [
    "print('yes',yes_cnt)\n",
    "print('no',no_cnt)\n",
    "print('no idea',no_idea)"
   ]
  },
  {
   "cell_type": "code",
   "execution_count": null,
   "metadata": {},
   "outputs": [],
   "source": []
  }
 ],
 "metadata": {
  "kernelspec": {
   "display_name": "sqlcoder2",
   "language": "python",
   "name": "python3"
  },
  "language_info": {
   "codemirror_mode": {
    "name": "ipython",
    "version": 3
   },
   "file_extension": ".py",
   "mimetype": "text/x-python",
   "name": "python",
   "nbconvert_exporter": "python",
   "pygments_lexer": "ipython3",
   "version": "3.9.18"
  }
 },
 "nbformat": 4,
 "nbformat_minor": 2
}
